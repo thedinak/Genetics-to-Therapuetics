{
 "cells": [
  {
   "cell_type": "code",
   "execution_count": 1,
   "metadata": {},
   "outputs": [],
   "source": [
    "import requests\n",
    "import json\n",
    "import numpy as np \n",
    "import pandas as pd"
   ]
  },
  {
   "cell_type": "code",
   "execution_count": 2,
   "metadata": {},
   "outputs": [],
   "source": [
    "cases_endpt = 'https://api.gdc.cancer.gov/cases'"
   ]
  },
  {
   "cell_type": "code",
   "execution_count": 3,
   "metadata": {},
   "outputs": [],
   "source": [
    "files_endpt = \"https://api.gdc.cancer.gov/files\""
   ]
  },
  {
   "cell_type": "code",
   "execution_count": 4,
   "metadata": {},
   "outputs": [
    {
     "name": "stdout",
     "output_type": "stream",
     "text": [
      "cases.0.disease_type\tcases.0.project.project_id\tcases.0.samples.0.sample_type\tcases.0.submitter_id\tfile_name\tid\r\n",
      "Squamous Cell Neoplasms\tTCGA-LUSC\tPrimary Tumor\tTCGA-85-6561\t8a52e74d-e830-4c13-81e1-caaf032b4549_gdc_realn_rehead.bam\t73e7a49e-87fd-4809-a076-1394a1a619a2\r\n",
      "Squamous Cell Neoplasms\tTCGA-LUSC\tPrimary Tumor\tTCGA-77-8144\tfc131a10-fa8f-45da-8732-642cc45c91e6_gdc_realn_rehead.bam\ta27ca6ec-7c8b-45cf-9daf-0bff9fdb66f0\r\n",
      "Squamous Cell Neoplasms\tTCGA-LUSC\tPrimary Tumor\tTCGA-18-3411\tddcab400-d9a0-40da-907f-adc5805c6bbb_gdc_realn_rehead.bam\te0979f1e-e816-4322-b1e1-cde921032091\r\n",
      "Squamous Cell Neoplasms\tTCGA-LUSC\tSolid Tissue Normal\tTCGA-56-7582\t8ef3c107-48d0-4203-820f-5b70394fe261_gdc_realn_rehead.bam\tddeeaa88-e030-4d0b-9a46-531323461bb9\r\n",
      "Squamous Cell Neoplasms\tTCGA-LUSC\tPrimary Tumor\tTCGA-43-7658\t9560e4b7-5f34-4139-8280-faf4e5b97a22_gdc_realn_rehead.bam\t03bb0e2c-7a1c-4195-92a2-7385b19f87f9\r\n",
      "\n"
     ]
    }
   ],
   "source": [
    "import requests\n",
    "import json\n",
    "\n",
    "fields = [\n",
    "    \"file_name\",\n",
    "    \"cases.submitter_id\",\n",
    "    \"cases.samples.sample_type\",\n",
    "    \"cases.disease_type\",\n",
    "    \"cases.project.project_id\"\n",
    "    ]\n",
    "\n",
    "fields = \",\".join(fields)\n",
    "\n",
    "files_endpt = \"https://api.gdc.cancer.gov/files\"\n",
    "\n",
    "# This set of filters is nested under an 'and' operator.\n",
    "filters = {\n",
    "    \"op\": \"and\",\n",
    "    \"content\":[\n",
    "        {\n",
    "        \"op\": \"in\",\n",
    "        \"content\":{\n",
    "            \"field\": \"cases.project.primary_site\",\n",
    "            \"value\": [\"Lung\"]\n",
    "            }\n",
    "        },\n",
    "        {\n",
    "        \"op\": \"in\",\n",
    "        \"content\":{\n",
    "            \"field\": \"files.experimental_strategy\",\n",
    "            \"value\": [\"RNA-Seq\"]\n",
    "            }\n",
    "        },\n",
    "        {\n",
    "        \"op\": \"in\",\n",
    "        \"content\":{\n",
    "            \"field\": \"files.data_format\",\n",
    "            \"value\": [\"BAM\"]\n",
    "            }\n",
    "        }\n",
    "    ]\n",
    "}\n",
    "\n",
    "# A POST is used, so the filter parameters can be passed directly as a Dict object.\n",
    "params = {\n",
    "    \"filters\": filters,\n",
    "    \"fields\": fields,\n",
    "    \"format\": \"TSV\",\n",
    "    \"size\": \"5\"\n",
    "    }\n",
    "\n",
    "# The parameters are passed to 'json' rather than 'params' in this case\n",
    "response = requests.post(files_endpt, headers = {\"Content-Type\": \"application/json\"}, json = params)\n",
    "\n",
    "print(response.content.decode(\"utf-8\"))"
   ]
  },
  {
   "cell_type": "code",
   "execution_count": 119,
   "metadata": {},
   "outputs": [],
   "source": [
    "#writing my own actual request - \n",
    "# goal - get RNA-seq for primary tumor, caseid, primary site, drug used, progression free days or equivalent\n",
    "\n",
    "#first table just need to be caseid, primary site for files that have rna seq and drug used \n",
    "\n",
    "fields_table1 = [\n",
    "    \"case_id\",\n",
    "    \"primary_site\",\n",
    "    \"diagnoses.days_to_recurrence\",\n",
    "    \"diagnoses.last_known_disease_status\",\n",
    "    \"diagnoses.progression_or_recurrence\",\n",
    "    \"diagnoses.treatments.therapeutic_agents\",\n",
    "    \"diagnoses.treatments.treatment_or_therapy\",\n",
    "    \"diagnoses.vital_status\"\n",
    "    ]\n",
    "\n",
    "array_reshape_value = len(fields_table1)\n",
    "fields_table1 = \",\".join(fields_table1)"
   ]
  },
  {
   "cell_type": "code",
   "execution_count": 120,
   "metadata": {},
   "outputs": [],
   "source": [
    "filters_table1 = {\n",
    "    \"op\":\"and\",\n",
    "    \"content\":[{\"op\":\"in\", \n",
    "                \"content\":{\n",
    "        \"field\":\"primary_site\",\n",
    "        \"value\": [\"Kidney\"]}}, \n",
    "                {\"op\":\"in\",\n",
    "                 \"content\":{\n",
    "                     \"field\":\"files.experimental_strategy\", \n",
    "                     \"value\":[\"RNA-Seq\"]}}]}"
   ]
  },
  {
   "cell_type": "code",
   "execution_count": 121,
   "metadata": {},
   "outputs": [],
   "source": [
    "params_table1 = {\n",
    "    \"filters\": json.dumps(filters_table1),\n",
    "    \"fields\": fields_table1,\n",
    "    \"format\": \"TSV\",\n",
    "    \"size\": \"2\"\n",
    "    }"
   ]
  },
  {
   "cell_type": "code",
   "execution_count": 122,
   "metadata": {},
   "outputs": [],
   "source": [
    "response_table1 = requests.get(cases_endpt, params = params_table1)\n",
    "response_table1_1 = requests.post(cases_endpt, headers = {\"Content-Type\": \"application/json\"}, json = params)\n"
   ]
  },
  {
   "cell_type": "code",
   "execution_count": 123,
   "metadata": {},
   "outputs": [
    {
     "data": {
      "text/plain": [
       "'case_id\\tdiagnoses.0.days_to_recurrence\\tdiagnoses.0.last_known_disease_status\\tdiagnoses.0.progression_or_recurrence\\tdiagnoses.0.treatments.0.therapeutic_agents\\tdiagnoses.0.treatments.0.treatment_or_therapy\\tdiagnoses.0.treatments.1.therapeutic_agents\\tdiagnoses.0.treatments.1.treatment_or_therapy\\tid\\tprimary_site\\r\\n5338d435-68fb-4f0d-a3e6-c843f703f75f\\t\\tnot reported\\tnot reported\\t\\tno\\t\\tno\\t5338d435-68fb-4f0d-a3e6-c843f703f75f\\tKidney\\r\\n22b6724c-a59f-4796-8166-992253e8caf1\\t\\tnot reported\\tnot reported\\t\\tnot reported\\t\\tnot reported\\t22b6724c-a59f-4796-8166-992253e8caf1\\tKidney\\r\\n'"
      ]
     },
     "execution_count": 123,
     "metadata": {},
     "output_type": "execute_result"
    }
   ],
   "source": [
    "clinical_data = response_table1.content.decode(\"utf-8\")\n",
    "clinical_data"
   ]
  },
  {
   "cell_type": "code",
   "execution_count": 124,
   "metadata": {},
   "outputs": [],
   "source": [
    "clinical_data_processed = clinical_data.replace(\"\\t\", \",\")\n",
    "clinical_data_processed = clinical_data_processed.replace(\"\\r\\n\", \",\")"
   ]
  },
  {
   "cell_type": "code",
   "execution_count": 125,
   "metadata": {},
   "outputs": [],
   "source": [
    "cd = clinical_data_processed.split(\",\")"
   ]
  },
  {
   "cell_type": "code",
   "execution_count": 126,
   "metadata": {},
   "outputs": [
    {
     "data": {
      "text/plain": [
       "31"
      ]
     },
     "execution_count": 126,
     "metadata": {},
     "output_type": "execute_result"
    }
   ],
   "source": [
    "len(cd)"
   ]
  },
  {
   "cell_type": "code",
   "execution_count": 127,
   "metadata": {},
   "outputs": [],
   "source": [
    "cd_array = np.asarray(cd[0:-1]) # not sure how to correctly just deal with this one last element"
   ]
  },
  {
   "cell_type": "code",
   "execution_count": 129,
   "metadata": {},
   "outputs": [],
   "source": [
    "cd_array = cd_array.reshape(-1, 10)"
   ]
  },
  {
   "cell_type": "code",
   "execution_count": 130,
   "metadata": {},
   "outputs": [
    {
     "data": {
      "text/plain": [
       "array(['case_id', 'diagnoses.0.days_to_recurrence',\n",
       "       'diagnoses.0.last_known_disease_status',\n",
       "       'diagnoses.0.progression_or_recurrence',\n",
       "       'diagnoses.0.treatments.0.therapeutic_agents',\n",
       "       'diagnoses.0.treatments.0.treatment_or_therapy',\n",
       "       'diagnoses.0.treatments.1.therapeutic_agents',\n",
       "       'diagnoses.0.treatments.1.treatment_or_therapy', 'id',\n",
       "       'primary_site'], dtype='<U45')"
      ]
     },
     "execution_count": 130,
     "metadata": {},
     "output_type": "execute_result"
    }
   ],
   "source": [
    "cd_array[0]"
   ]
  },
  {
   "cell_type": "code",
   "execution_count": 131,
   "metadata": {},
   "outputs": [],
   "source": [
    "cd_df = pd.DataFrame(cd_array[1:], columns=cd_array[0])"
   ]
  },
  {
   "cell_type": "code",
   "execution_count": 132,
   "metadata": {},
   "outputs": [
    {
     "data": {
      "text/html": [
       "<div>\n",
       "<style scoped>\n",
       "    .dataframe tbody tr th:only-of-type {\n",
       "        vertical-align: middle;\n",
       "    }\n",
       "\n",
       "    .dataframe tbody tr th {\n",
       "        vertical-align: top;\n",
       "    }\n",
       "\n",
       "    .dataframe thead th {\n",
       "        text-align: right;\n",
       "    }\n",
       "</style>\n",
       "<table border=\"1\" class=\"dataframe\">\n",
       "  <thead>\n",
       "    <tr style=\"text-align: right;\">\n",
       "      <th></th>\n",
       "      <th>case_id</th>\n",
       "      <th>diagnoses.0.days_to_recurrence</th>\n",
       "      <th>diagnoses.0.last_known_disease_status</th>\n",
       "      <th>diagnoses.0.progression_or_recurrence</th>\n",
       "      <th>diagnoses.0.treatments.0.therapeutic_agents</th>\n",
       "      <th>diagnoses.0.treatments.0.treatment_or_therapy</th>\n",
       "      <th>diagnoses.0.treatments.1.therapeutic_agents</th>\n",
       "      <th>diagnoses.0.treatments.1.treatment_or_therapy</th>\n",
       "      <th>id</th>\n",
       "      <th>primary_site</th>\n",
       "    </tr>\n",
       "  </thead>\n",
       "  <tbody>\n",
       "    <tr>\n",
       "      <td>0</td>\n",
       "      <td>5338d435-68fb-4f0d-a3e6-c843f703f75f</td>\n",
       "      <td></td>\n",
       "      <td>not reported</td>\n",
       "      <td>not reported</td>\n",
       "      <td></td>\n",
       "      <td>no</td>\n",
       "      <td></td>\n",
       "      <td>no</td>\n",
       "      <td>5338d435-68fb-4f0d-a3e6-c843f703f75f</td>\n",
       "      <td>Kidney</td>\n",
       "    </tr>\n",
       "    <tr>\n",
       "      <td>1</td>\n",
       "      <td>22b6724c-a59f-4796-8166-992253e8caf1</td>\n",
       "      <td></td>\n",
       "      <td>not reported</td>\n",
       "      <td>not reported</td>\n",
       "      <td></td>\n",
       "      <td>not reported</td>\n",
       "      <td></td>\n",
       "      <td>not reported</td>\n",
       "      <td>22b6724c-a59f-4796-8166-992253e8caf1</td>\n",
       "      <td>Kidney</td>\n",
       "    </tr>\n",
       "  </tbody>\n",
       "</table>\n",
       "</div>"
      ],
      "text/plain": [
       "                                case_id diagnoses.0.days_to_recurrence  \\\n",
       "0  5338d435-68fb-4f0d-a3e6-c843f703f75f                                  \n",
       "1  22b6724c-a59f-4796-8166-992253e8caf1                                  \n",
       "\n",
       "  diagnoses.0.last_known_disease_status diagnoses.0.progression_or_recurrence  \\\n",
       "0                          not reported                          not reported   \n",
       "1                          not reported                          not reported   \n",
       "\n",
       "  diagnoses.0.treatments.0.therapeutic_agents  \\\n",
       "0                                               \n",
       "1                                               \n",
       "\n",
       "  diagnoses.0.treatments.0.treatment_or_therapy  \\\n",
       "0                                            no   \n",
       "1                                  not reported   \n",
       "\n",
       "  diagnoses.0.treatments.1.therapeutic_agents  \\\n",
       "0                                               \n",
       "1                                               \n",
       "\n",
       "  diagnoses.0.treatments.1.treatment_or_therapy  \\\n",
       "0                                            no   \n",
       "1                                  not reported   \n",
       "\n",
       "                                     id primary_site  \n",
       "0  5338d435-68fb-4f0d-a3e6-c843f703f75f       Kidney  \n",
       "1  22b6724c-a59f-4796-8166-992253e8caf1       Kidney  "
      ]
     },
     "execution_count": 132,
     "metadata": {},
     "output_type": "execute_result"
    }
   ],
   "source": [
    "cd_df #I'm not sure why the vital status is not showing up? "
   ]
  },
  {
   "cell_type": "code",
   "execution_count": null,
   "metadata": {},
   "outputs": [],
   "source": [
    "#so the vital status is located in a text file that contains all of the clinical information for all the patients in that project- file name for the first case = nationwidechildrens.org_clinical_patient_kirc.txt \n",
    "#drugs for each patient are located in another text file - file name for first case = nationwidechildrens.org_clinical_drug_kirc.txt\n",
    "#the rna-seq file for this case is called - \td7984046-2ea2-4b2e-ba78-2909ed46f649.FPKM.txt.gz"
   ]
  },
  {
   "cell_type": "code",
   "execution_count": null,
   "metadata": {},
   "outputs": [],
   "source": []
  },
  {
   "cell_type": "code",
   "execution_count": 15,
   "metadata": {},
   "outputs": [
    {
     "ename": "SyntaxError",
     "evalue": "invalid syntax (<ipython-input-15-acf02c292740>, line 3)",
     "output_type": "error",
     "traceback": [
      "\u001b[0;36m  File \u001b[0;32m\"<ipython-input-15-acf02c292740>\"\u001b[0;36m, line \u001b[0;32m3\u001b[0m\n\u001b[0;31m    and files.analysis.workflow_type in [\"HTSeq - FPKM\"]\u001b[0m\n\u001b[0m      ^\u001b[0m\n\u001b[0;31mSyntaxError\u001b[0m\u001b[0;31m:\u001b[0m invalid syntax\n"
     ]
    }
   ],
   "source": [
    "#note for later from file search\n",
    "# cases.case_id in [\"set_id:AXD11pcSNya3Dok10xD9\"] \n",
    "# and files.analysis.workflow_type in [\"HTSeq - FPKM\"]\n",
    "# and files.data_format in [\"txt\"] and files.data_type \n",
    "# in [\"Gene Expression Quantification\"] and\n",
    "# files.experimental_strategy in [\"RNA-Seq\"]"
   ]
  },
  {
   "cell_type": "code",
   "execution_count": null,
   "metadata": {},
   "outputs": [],
   "source": []
  }
 ],
 "metadata": {
  "kernelspec": {
   "display_name": "Python 3",
   "language": "python",
   "name": "python3"
  },
  "language_info": {
   "codemirror_mode": {
    "name": "ipython",
    "version": 3
   },
   "file_extension": ".py",
   "mimetype": "text/x-python",
   "name": "python",
   "nbconvert_exporter": "python",
   "pygments_lexer": "ipython3",
   "version": "3.7.4"
  }
 },
 "nbformat": 4,
 "nbformat_minor": 2
}
