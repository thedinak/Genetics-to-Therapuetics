{
 "cells": [
  {
   "cell_type": "code",
   "execution_count": 1,
   "metadata": {},
   "outputs": [],
   "source": [
    "import requests\n",
    "import json\n",
    "import numpy as np \n",
    "import pandas as pd\n",
    "import os\n",
    "import pickle\n",
    "import regex as re\n",
    "from zipfile import ZipFile\n",
    "import gzip\n",
    "import tarfile\n",
    "from fuzzywuzzy import process\n",
    "from itertools import *\n",
    "import collections"
   ]
  },
  {
   "cell_type": "code",
   "execution_count": 2,
   "metadata": {},
   "outputs": [],
   "source": [
    "def get_clinical_data_online(filters_table, fields_table, cases_endpoint):\n",
    "    params_table = {\n",
    "    \"filters\": json.dumps(filters_table),\n",
    "    \"fields\": \",\".join(fields_table),\n",
    "    \"format\": \"TSV\",\n",
    "    \"size\": \"5000\"\n",
    "    }\n",
    "    response_table = requests.get(cases_endpoint, params = params_table)\n",
    "    clinical_data = response_table.content.decode(\"utf-8\")\n",
    "    clinical_data_processed = clinical_data.replace(\"\\t\", \",\")\n",
    "    clinical_data_processed = clinical_data_processed.replace(\"\\r\\n\", \",\")\n",
    "    cd = clinical_data_processed.split(\",\")\n",
    "    \n",
    "    #find index with first occurance of a number \n",
    "    for i, value in enumerate(cd):\n",
    "        if re.search(r\"\\d\", value)!= None:\n",
    "            reshape_value = i\n",
    "            break\n",
    "    \n",
    "    cd_array = np.asarray(cd[0:-1]) \n",
    "    cd_array = cd_array.reshape(-1, reshape_value)\n",
    "    cd_df = pd.DataFrame(cd_array[1:], columns=cd_array[0])\n",
    "    column_renaming_dictionary = {value:value.split('.')[-1] for value in cd_df.columns}\n",
    "    cd_df.rename(columns = column_renaming_dictionary, inplace = True)\n",
    "    return cd_df"
   ]
  },
  {
   "cell_type": "code",
   "execution_count": 3,
   "metadata": {},
   "outputs": [],
   "source": [
    "def get_clinical_data_files_locally(root_dir):\n",
    "    clinical_dfs = []\n",
    "    for root, dirs, files in os.walk(root_dir):\n",
    "        for file in files:\n",
    "            if file.endswith(\".txt\") and \"MANIFEST\" not in file:\n",
    "                clinical_dfs.append(pd.read_csv(os.path.join(root,file), sep = '\\t', skiprows = [2], header = 1)) #skiprows= 2, header = 0\n",
    "    return clinical_dfs"
   ]
  },
  {
   "cell_type": "code",
   "execution_count": 4,
   "metadata": {},
   "outputs": [],
   "source": [
    "def lowercase_dataframe(dfs):\n",
    "    lowercase_dfs = []\n",
    "    for df in dfs:\n",
    "        lowercase_dfs.append(df.applymap(lambda s:s.lower() if type(s) == str else s))\n",
    "    return lowercase_dfs"
   ]
  },
  {
   "cell_type": "code",
   "execution_count": 5,
   "metadata": {},
   "outputs": [],
   "source": [
    "def uuid_index(lowercase_clinical_dfs):\n",
    "    for df in lowercase_clinical_dfs:\n",
    "        if df.index.name!='bcr_patient_uuid':\n",
    "            try: \n",
    "                df.set_index('bcr_patient_uuid', inplace = True) \n",
    "            except:\n",
    "                continue"
   ]
  },
  {
   "cell_type": "code",
   "execution_count": 6,
   "metadata": {},
   "outputs": [],
   "source": [
    "def limit_to_select_columns(column_set, lowercase_dfs):\n",
    "    limited_dfs = []\n",
    "    for df in lowercase_dfs:\n",
    "        available_column = [column_name for column_name in column_set if column_name in df.columns]\n",
    "        limited_dfs.append(df.loc[:,available_column])\n",
    "    limited_dfs =[df for df in limited_dfs if df.shape[1]!=0]\n",
    "    return limited_dfs"
   ]
  },
  {
   "cell_type": "code",
   "execution_count": 7,
   "metadata": {},
   "outputs": [],
   "source": [
    "def concat_dfs_on_patient_uuid(dfs):\n",
    "    df1 = dfs[0]\n",
    "    i=1\n",
    "    for df in dfs[1:]:\n",
    "        df1= df1.join(df, on='bcr_patient_uuid', rsuffix= f'{i}', how='outer')\n",
    "        i+=1\n",
    "    df1.drop_duplicates(inplace=True)\n",
    "    df1.set_index('bcr_patient_uuid', inplace=True)\n",
    "    return df1"
   ]
  },
  {
   "cell_type": "code",
   "execution_count": 8,
   "metadata": {},
   "outputs": [],
   "source": [
    "def push_columns_together(column_set, dataframe):\n",
    "    for column_type in column_set: \n",
    "        subset_group = [column_name for column_name in dataframe.columns if column_type in column_name]\n",
    "        if column_type!='karnofsky_performance_score':   \n",
    "            dataframe[column_type] = dataframe[subset_group].fillna('').agg(','.join, axis=1).str.strip(',')\n",
    "        if column_type=='karnofsky_performance_score':\n",
    "            for column in subset_group:\n",
    "                dataframe[column] = pd.to_numeric(dataframe[column],errors='coerce')\n",
    "            dataframe[column_type]=dataframe[subset_group].max(axis=1)\n",
    "    #dataframe['drug_name']=dataframe.drug_name.str.split(r\"\\||,\")\n",
    "    dataframe['vital_status']=['dead' if 'dead' in value else 'alive' for value in dataframe['vital_status']]\n",
    "    #dataframe = dataframe.explode('drug_name')\n",
    "    return dataframe[column_set]"
   ]
  },
  {
   "cell_type": "code",
   "execution_count": 9,
   "metadata": {},
   "outputs": [],
   "source": [
    "def explode_drug_name_column(dataframe):\n",
    "    df = dataframe.copy()\n",
    "    df.drug_name = df.drug_name.str.split(r\"\\||,\")\n",
    "    exploded_dataframe = df.reset_index().explode('drug_name')\n",
    "    exploded_dataframe.set_index('bcr_patient_uuid', inplace=True)\n",
    "    #the explode function makes some accidental duplicates when there are duplicate indices, hence the index reset\n",
    "    return exploded_dataframe"
   ]
  },
  {
   "cell_type": "code",
   "execution_count": 28,
   "metadata": {},
   "outputs": [
    {
     "ename": "NameError",
     "evalue": "name 'df5' is not defined",
     "output_type": "error",
     "traceback": [
      "\u001b[0;31m---------------------------------------------------------------------------\u001b[0m",
      "\u001b[0;31mNameError\u001b[0m                                 Traceback (most recent call last)",
      "\u001b[0;32m<ipython-input-28-2be956c88003>\u001b[0m in \u001b[0;36m<module>\u001b[0;34m\u001b[0m\n\u001b[0;32m----> 1\u001b[0;31m \u001b[0mdf5\u001b[0m\u001b[0;34m.\u001b[0m\u001b[0mdrug_name\u001b[0m\u001b[0;34m.\u001b[0m\u001b[0mvalue_counts\u001b[0m\u001b[0;34m(\u001b[0m\u001b[0;34m)\u001b[0m\u001b[0;34m\u001b[0m\u001b[0;34m\u001b[0m\u001b[0m\n\u001b[0m",
      "\u001b[0;31mNameError\u001b[0m: name 'df5' is not defined"
     ]
    }
   ],
   "source": [
    "df5.drug_name.value_counts()"
   ]
  },
  {
   "cell_type": "code",
   "execution_count": 29,
   "metadata": {},
   "outputs": [
    {
     "ename": "NameError",
     "evalue": "name 'df4' is not defined",
     "output_type": "error",
     "traceback": [
      "\u001b[0;31m---------------------------------------------------------------------------\u001b[0m",
      "\u001b[0;31mNameError\u001b[0m                                 Traceback (most recent call last)",
      "\u001b[0;32m<ipython-input-29-ec985111a7d4>\u001b[0m in \u001b[0;36m<module>\u001b[0;34m\u001b[0m\n\u001b[0;32m----> 1\u001b[0;31m \u001b[0mdf5\u001b[0m \u001b[0;34m=\u001b[0m\u001b[0mexplode_drug_name_column\u001b[0m\u001b[0;34m(\u001b[0m\u001b[0mdf4\u001b[0m\u001b[0;34m)\u001b[0m\u001b[0;34m\u001b[0m\u001b[0;34m\u001b[0m\u001b[0m\n\u001b[0m",
      "\u001b[0;31mNameError\u001b[0m: name 'df4' is not defined"
     ]
    }
   ],
   "source": [
    "df5 =explode_drug_name_column(df4)"
   ]
  },
  {
   "cell_type": "code",
   "execution_count": 10,
   "metadata": {},
   "outputs": [],
   "source": [
    "def get_caseid_txt_file(dataframe, filename):\n",
    "    uuids = dataframe[(dataframe.drug_name!='')\n",
    "                      &(dataframe.drug_name!='[not available]')\n",
    "                      &(dataframe.drug_name!='[unknown]')].index\n",
    "    with open(f'{filename}.txt','w') as f:\n",
    "      f.write('\\n'.join(uuids.unique()))\n",
    "    return uuids"
   ]
  },
  {
   "cell_type": "code",
   "execution_count": 31,
   "metadata": {},
   "outputs": [
    {
     "ename": "NameError",
     "evalue": "name 'column_set' is not defined",
     "output_type": "error",
     "traceback": [
      "\u001b[0;31m---------------------------------------------------------------------------\u001b[0m",
      "\u001b[0;31mNameError\u001b[0m                                 Traceback (most recent call last)",
      "\u001b[0;32m<ipython-input-31-22c8338fa8e2>\u001b[0m in \u001b[0;36m<module>\u001b[0;34m\u001b[0m\n\u001b[0;32m----> 1\u001b[0;31m \u001b[0mcolumn_set\u001b[0m\u001b[0;34m\u001b[0m\u001b[0;34m\u001b[0m\u001b[0m\n\u001b[0m",
      "\u001b[0;31mNameError\u001b[0m: name 'column_set' is not defined"
     ]
    }
   ],
   "source": [
    "column_set"
   ]
  },
  {
   "cell_type": "code",
   "execution_count": 11,
   "metadata": {},
   "outputs": [
    {
     "data": {
      "text/plain": [
       "TCGA-KIRC      530\n",
       "TCGA-KIRP      289\n",
       "TARGET-WT      125\n",
       "CPTAC-3        110\n",
       "TCGA-KICH       66\n",
       "TARGET-RT       57\n",
       "TARGET-CCSK     13\n",
       "TARGET-NBL       6\n",
       "TCGA-SARC        2\n",
       "Name: project_id, dtype: int64"
      ]
     },
     "execution_count": 11,
     "metadata": {},
     "output_type": "execute_result"
    }
   ],
   "source": [
    "kidney_filters_table = {\n",
    "    \"op\":\"and\",\n",
    "    \"content\":[{\"op\":\"in\", \n",
    "                \"content\":{\n",
    "        \"field\":\"primary_site\",\n",
    "        \"value\": [\"Kidney\"]}}, \n",
    "                {\"op\":\"in\",\n",
    "                 \"content\":{\n",
    "                     \"field\":\"files.experimental_strategy\", \n",
    "                     \"value\":[\"RNA-Seq\"]}}]}\n",
    "\n",
    "\n",
    "\n",
    "fields_table = [\"case_id\",\"primary_site\",\"project.project_id\"] \n",
    "\n",
    "cases_endpoint ='https://api.gdc.cancer.gov/cases'\n",
    "\n",
    "kidney_cd_df = get_clinical_data_online(kidney_filters_table, fields_table, cases_endpoint)\n",
    "\n",
    "kidney_cd_df.project_id.value_counts() \n",
    "# this provides the list of projects from which to fetch clinical data  \n",
    "# unfortunately, only TCGA provides drug information"
   ]
  },
  {
   "cell_type": "code",
   "execution_count": 16,
   "metadata": {},
   "outputs": [],
   "source": [
    "root_dir = '/Users/dinakats/Desktop/SPICED/final_proj_git_renew/Genetics-to-Therapuetics/Data/kidney2test'"
   ]
  },
  {
   "cell_type": "code",
   "execution_count": 13,
   "metadata": {},
   "outputs": [],
   "source": [
    "def get_all_clinical_files_for_disease(clinical_data_dataframe, root_dir_for_files):\n",
    "    files_endpt = \"https://api.gdc.cancer.gov/files\"\n",
    "    #only tcga has the correctly formatted clinical files \n",
    "    tcga_project_ids =[project_id for project_id in kidney_cd_df.project_id.value_counts().index if \"TCGA\" in project_id]\n",
    "    \n",
    "    for project_id in tcga_project_ids: \n",
    "        print(project_id)\n",
    "        filters = {\n",
    "            \"op\": \"and\",\n",
    "            \"content\":[\n",
    "                {\n",
    "                \"op\": \"in\",\n",
    "                \"content\":{\n",
    "                    \"field\": \"cases.project.program.name\",\n",
    "                    \"value\": [project_id.split(\"-\")[0]]\n",
    "                    }\n",
    "                },\n",
    "                {\n",
    "                \"op\": \"in\",\n",
    "                \"content\":{\n",
    "                    \"field\": \"cases.project.project_id\",\n",
    "                    \"value\": [project_id]\n",
    "                    }\n",
    "                },\n",
    "                {\n",
    "                \"op\": \"in\",\n",
    "                \"content\":{\n",
    "                    \"field\": \"files.data_category\",\n",
    "                    \"value\": [\"clinical\"]\n",
    "                    }\n",
    "                },\n",
    "                {\n",
    "                \"op\": \"in\",\n",
    "                \"content\":{\n",
    "                    \"field\": \"files.data_format\",\n",
    "                    \"value\": [\"bcr biotab\"]\n",
    "                    }}]\n",
    "                }\n",
    "\n",
    "        params = {\n",
    "        \"filters\": json.dumps(filters),\n",
    "        \"fields\": \"file_id\",\n",
    "        \"format\": \"JSON\",\n",
    "        \"size\": \"20\"\n",
    "        }\n",
    "        \n",
    "        # Here a GET is used, so the filter parameters should be passed as a JSON string.\n",
    "        response = requests.get(files_endpt, params = params)\n",
    "        file_uuid_list = []\n",
    "\n",
    "        # This step populates the download list with the file_ids from the previous query\n",
    "        for file_entry in json.loads(response.content.decode(\"utf-8\"))[\"data\"][\"hits\"]:\n",
    "            file_uuid_list.append(file_entry[\"file_id\"])\n",
    "\n",
    "        data_endpt = \"https://api.gdc.cancer.gov/data\"\n",
    "\n",
    "        params = {\"ids\": file_uuid_list}\n",
    "\n",
    "        response = requests.post(data_endpt, data = json.dumps(params), headers = {\"Content-Type\": \"application/json\"})\n",
    "        response_head_cd = response.headers[\"Content-Disposition\"]\n",
    "        print(response_head_cd)\n",
    "\n",
    "        file_name = f'{project_id}.tar.gz'\n",
    "\n",
    "        with open(f'{root_dir_for_files}/{file_name}', \"wb\") as output_file:\n",
    "            output_file.write(response.content)"
   ]
  },
  {
   "cell_type": "code",
   "execution_count": 14,
   "metadata": {},
   "outputs": [
    {
     "name": "stdout",
     "output_type": "stream",
     "text": [
      "TCGA-KIRC\n",
      "attachment; filename=gdc_download_20200730_223315.823238.tar.gz\n"
     ]
    },
    {
     "ename": "FileNotFoundError",
     "evalue": "[Errno 2] No such file or directory: '/Users/dinakats/Desktop/SPICED/final_proj_git_renew/Genetics-to-Therapuetics/Data/kidney3test/TCGA-KIRC.tar.gz'",
     "output_type": "error",
     "traceback": [
      "\u001b[0;31m---------------------------------------------------------------------------\u001b[0m",
      "\u001b[0;31mFileNotFoundError\u001b[0m                         Traceback (most recent call last)",
      "\u001b[0;32m<ipython-input-14-bc0aa4bad2cd>\u001b[0m in \u001b[0;36m<module>\u001b[0;34m\u001b[0m\n\u001b[0;32m----> 1\u001b[0;31m \u001b[0mget_all_clinical_files_for_disease\u001b[0m\u001b[0;34m(\u001b[0m\u001b[0mkidney_cd_df\u001b[0m\u001b[0;34m,\u001b[0m \u001b[0mroot_dir\u001b[0m\u001b[0;34m)\u001b[0m\u001b[0;34m\u001b[0m\u001b[0;34m\u001b[0m\u001b[0m\n\u001b[0m",
      "\u001b[0;32m<ipython-input-13-3800d33bdbc7>\u001b[0m in \u001b[0;36mget_all_clinical_files_for_disease\u001b[0;34m(clinical_data_dataframe, root_dir_for_files)\u001b[0m\n\u001b[1;32m     63\u001b[0m         \u001b[0mfile_name\u001b[0m \u001b[0;34m=\u001b[0m \u001b[0;34mf'{project_id}.tar.gz'\u001b[0m\u001b[0;34m\u001b[0m\u001b[0;34m\u001b[0m\u001b[0m\n\u001b[1;32m     64\u001b[0m \u001b[0;34m\u001b[0m\u001b[0m\n\u001b[0;32m---> 65\u001b[0;31m         \u001b[0;32mwith\u001b[0m \u001b[0mopen\u001b[0m\u001b[0;34m(\u001b[0m\u001b[0;34mf'{root_dir_for_files}/{file_name}'\u001b[0m\u001b[0;34m,\u001b[0m \u001b[0;34m\"wb\"\u001b[0m\u001b[0;34m)\u001b[0m \u001b[0;32mas\u001b[0m \u001b[0moutput_file\u001b[0m\u001b[0;34m:\u001b[0m\u001b[0;34m\u001b[0m\u001b[0;34m\u001b[0m\u001b[0m\n\u001b[0m\u001b[1;32m     66\u001b[0m             \u001b[0moutput_file\u001b[0m\u001b[0;34m.\u001b[0m\u001b[0mwrite\u001b[0m\u001b[0;34m(\u001b[0m\u001b[0mresponse\u001b[0m\u001b[0;34m.\u001b[0m\u001b[0mcontent\u001b[0m\u001b[0;34m)\u001b[0m\u001b[0;34m\u001b[0m\u001b[0;34m\u001b[0m\u001b[0m\n",
      "\u001b[0;31mFileNotFoundError\u001b[0m: [Errno 2] No such file or directory: '/Users/dinakats/Desktop/SPICED/final_proj_git_renew/Genetics-to-Therapuetics/Data/kidney3test/TCGA-KIRC.tar.gz'"
     ]
    }
   ],
   "source": [
    "get_all_clinical_files_for_disease(kidney_cd_df, root_dir)"
   ]
  },
  {
   "cell_type": "code",
   "execution_count": 17,
   "metadata": {},
   "outputs": [
    {
     "data": {
      "text/plain": [
       "[]"
      ]
     },
     "execution_count": 17,
     "metadata": {},
     "output_type": "execute_result"
    }
   ],
   "source": [
    "unzip_clinical_files(root_dir)"
   ]
  },
  {
   "cell_type": "code",
   "execution_count": 15,
   "metadata": {},
   "outputs": [],
   "source": [
    "def unzip_clinical_files(root_dir):\n",
    "    list_of_files_to_unpack =[]\n",
    "    for filename in os.listdir(root_dir):\n",
    "        #try:\n",
    "        if \".gz\" in filename: \n",
    "            list_of_files_to_unpack.append(os.path.join(root_dir,filename))\n",
    "            full_path = root_dir+\"/\"+filename\n",
    "            open_tar = tarfile.open(full_path)\n",
    "            open_tar.extractall(f'{root_dir}/{filename.split(\".\")[0]}')\n",
    "            open_tar.close()\n",
    "        #except:\n",
    "            #continue\n",
    "    return list_of_files_to_unpack"
   ]
  },
  {
   "cell_type": "code",
   "execution_count": 37,
   "metadata": {},
   "outputs": [],
   "source": [
    "def sort_drug_names(dataframe, drug_name_dictionary): \n",
    "    #create reverse dictionary from given dictlist\n",
    "    drug_dict = {}\n",
    "\n",
    "    for key, value in drug_name_dictionary.items():\n",
    "        for item in value: \n",
    "            drug_dict[item]=key\n",
    "    #explode out names in parenthesis\n",
    "    df = dataframe.copy()\n",
    "    df.drug_name = df.drug_name.str.split(r\"\\(\")\n",
    "    exploded_df = df.reset_index().explode('drug_name')\n",
    "    exploded_df.drug_name = exploded_df.drug_name.str.strip('\\)')\n",
    "    \n",
    "    #use lists and top drug names to correct for any spelling errors\n",
    "    drug_name_value_counts= exploded_df[(exploded_df.drug_name!='')&(exploded_df.drug_name!='[not available]')].drug_name.value_counts()\n",
    "    top_used_drugs = drug_name_value_counts[drug_name_value_counts>10].index.tolist()\n",
    "    correctly_spelled_drug_names =set(top_used_drugs + list(drug_dict.keys())+ list(drug_dict.values()))\n",
    "    \n",
    "    fuzzy_match_dict = {}\n",
    "    fuzzywuzzy_threshold = 85\n",
    "    for drug in exploded_df.drug_name:\n",
    "        if drug not in correctly_spelled_drug_names and drug!='':\n",
    "            new_name, score = process.extractOne(drug, correctly_spelled_drug_names)\n",
    "            if score>fuzzywuzzy_threshold:\n",
    "                fuzzy_match_dict[drug]=new_name\n",
    "    \n",
    "    #use drug dictionary to replace drug names\n",
    "    exploded_df['standard_drugs'] = exploded_df.drug_name.map(fuzzy_match_dict).fillna(exploded_df['drug_name'])\n",
    "    exploded_df['standard_drugs'] = exploded_df.standard_drugs.map(drug_dict).fillna(exploded_df['standard_drugs'])\n",
    "    exploded_df.drop_duplicates(inplace=True)\n",
    "    \n",
    "    return fuzzy_match_dict, exploded_df"
   ]
  },
  {
   "cell_type": "code",
   "execution_count": 38,
   "metadata": {},
   "outputs": [],
   "source": [
    "alternative_drug_names = {'gemcitabine':['abine','accogem','acytabin','antoril','axigem','bendacitabin','biogem','boligem','celzar',\n",
    "                          'citegin','cytigem','cytogem','daplax','dbl','demozar','dercin','emcitab','enekamub','eriogem','fotinex',\n",
    "                          'gebina','gemalata','gembin','gembine','gembio','gemcel','gemcetin','gemcibine','gemcikal','gemcipen',\n",
    "                          'gemcired','gemcirena','gemcit','gemcitabin','gemcitabina','gemcitabine','gemcitabinum','gemcitan',\n",
    "                          'gemedac','gemflor','gemful','gemita','gemko','gemliquid','gemmis','gemnil','gempower','gemsol',\n",
    "                          'gemstad','gemstada','gemtabine','gemtavis','gemtaz','gemtero','gemtra','gemtro','gemvic','gemxit',\n",
    "                          'gemzar','gentabim','genuten','genvir','geroam','gestredos','getanosan','getmisi','gezt','gitrabin',\n",
    "                          'gramagen','haxanit','jemta','kalbezar','medigem','meditabine','nabigem','nallian','oncogem','oncoril',\n",
    "                          'pamigeno','ribozar','santabin','sitagem','symtabin','yu jie','ze fei','zefei'],\n",
    "                          'sorafenib':['nexavar','bay-439006'],\n",
    "                          'doxorubicin':['adriamycin','doxil','liposomal doxorubicin'],\n",
    "                          'doxetaxel':['taxotere'],\n",
    "                          'pazonib':['votrient'],\n",
    "                          'sunitinib':['sutent'],\n",
    "                          'temsirolimus':['torisel'],\n",
    "                          'avastin':['bevacizumab'],\n",
    "                          'interferon-alpha':['interferon'],\n",
    "                          'capecitibine':['xeloda'],\n",
    "                          'everolimus':['afinitor','rad001'],\n",
    "                          'trabectedin':['et-743'],\n",
    "                          'gefitinib':['iressa'],\n",
    "                          'dacarbazine':['dtic'],\n",
    "                          'letrozole':['femara'],\n",
    "                          'il-2':['interleukin', 'interleukin-2', 'il 2', 'il2'],\n",
    "                          'deforolimus':['ridaforolimus', 'MK-8669', 'AP23573','ap-23573'],\n",
    "                          'cisplatin':['platinol'],\n",
    "                          'carboplatin':['paraplatin']\n",
    "                          }"
   ]
  },
  {
   "cell_type": "code",
   "execution_count": 39,
   "metadata": {},
   "outputs": [],
   "source": [
    "column_set = ['drug_name', 'karnofsky_performance_score', 'therapy_type', 'vital_status']"
   ]
  },
  {
   "cell_type": "code",
   "execution_count": 49,
   "metadata": {},
   "outputs": [],
   "source": [
    "df1 = get_clinical_data_files_locally(root_dir)\n",
    "df1 = lowercase_dataframe(df1)\n",
    "uuid_index(df1)"
   ]
  },
  {
   "cell_type": "code",
   "execution_count": 41,
   "metadata": {},
   "outputs": [
    {
     "data": {
      "text/plain": [
       "82"
      ]
     },
     "execution_count": 41,
     "metadata": {},
     "output_type": "execute_result"
    }
   ],
   "source": [
    "len(df1)"
   ]
  },
  {
   "cell_type": "code",
   "execution_count": 45,
   "metadata": {},
   "outputs": [
    {
     "data": {
      "text/plain": [
       "'bcr_patient_uuid'"
      ]
     },
     "execution_count": 45,
     "metadata": {},
     "output_type": "execute_result"
    }
   ],
   "source": [
    "df1[0].index.name"
   ]
  },
  {
   "cell_type": "code",
   "execution_count": 323,
   "metadata": {},
   "outputs": [],
   "source": [
    "df2 = limit_to_select_columns(column_set, df1)"
   ]
  },
  {
   "cell_type": "code",
   "execution_count": 324,
   "metadata": {},
   "outputs": [
    {
     "data": {
      "text/plain": [
       "'bcr_patient_uuid'"
      ]
     },
     "execution_count": 324,
     "metadata": {},
     "output_type": "execute_result"
    }
   ],
   "source": [
    "df2[12].index.name"
   ]
  },
  {
   "cell_type": "code",
   "execution_count": 325,
   "metadata": {},
   "outputs": [],
   "source": [
    "df3 = concat_dfs_on_patient_uuid(df2)"
   ]
  },
  {
   "cell_type": "code",
   "execution_count": 326,
   "metadata": {},
   "outputs": [
    {
     "data": {
      "text/plain": [
       "(1535, 26)"
      ]
     },
     "execution_count": 326,
     "metadata": {},
     "output_type": "execute_result"
    }
   ],
   "source": [
    "df3.shape"
   ]
  },
  {
   "cell_type": "code",
   "execution_count": 327,
   "metadata": {},
   "outputs": [],
   "source": [
    "df4 = push_columns_together(column_set,df3)"
   ]
  },
  {
   "cell_type": "code",
   "execution_count": 328,
   "metadata": {},
   "outputs": [
    {
     "data": {
      "text/plain": [
       "(1535, 4)"
      ]
     },
     "execution_count": 328,
     "metadata": {},
     "output_type": "execute_result"
    }
   ],
   "source": [
    "df4.shape"
   ]
  },
  {
   "cell_type": "code",
   "execution_count": 330,
   "metadata": {
    "scrolled": true
   },
   "outputs": [
    {
     "data": {
      "text/plain": [
       "                                870\n",
       "[not available]                 170\n",
       "gemcitabine                      40\n",
       "adriamycin                       23\n",
       "sunitinib                        23\n",
       "                               ... \n",
       "arimidex                          1\n",
       "temsirolimus,[not available]      1\n",
       "adriamycin,sunitinib              1\n",
       "[not available],rituxan           1\n",
       "pazopanib,[not available]         1\n",
       "Name: drug_name, Length: 162, dtype: int64"
      ]
     },
     "execution_count": 330,
     "metadata": {},
     "output_type": "execute_result"
    }
   ],
   "source": [
    "df4.drug_name.value_counts()"
   ]
  },
  {
   "cell_type": "code",
   "execution_count": 362,
   "metadata": {},
   "outputs": [],
   "source": [
    "df5 = explode_drug_name_column(df4)"
   ]
  },
  {
   "cell_type": "code",
   "execution_count": 363,
   "metadata": {},
   "outputs": [
    {
     "data": {
      "text/plain": [
       "                    870\n",
       "[not available]     206\n",
       "gemcitabine          45\n",
       "adriamycin           27\n",
       "sunitinib            26\n",
       "                   ... \n",
       "leuprolide            1\n",
       "cyclophosphamide      1\n",
       "zd6474                1\n",
       "rad001                1\n",
       "threshold-302         1\n",
       "Name: drug_name, Length: 144, dtype: int64"
      ]
     },
     "execution_count": 363,
     "metadata": {},
     "output_type": "execute_result"
    }
   ],
   "source": [
    "df5.drug_name.value_counts()"
   ]
  },
  {
   "cell_type": "code",
   "execution_count": 370,
   "metadata": {},
   "outputs": [
    {
     "data": {
      "text/html": [
       "<div>\n",
       "<style scoped>\n",
       "    .dataframe tbody tr th:only-of-type {\n",
       "        vertical-align: middle;\n",
       "    }\n",
       "\n",
       "    .dataframe tbody tr th {\n",
       "        vertical-align: top;\n",
       "    }\n",
       "\n",
       "    .dataframe thead th {\n",
       "        text-align: right;\n",
       "    }\n",
       "</style>\n",
       "<table border=\"1\" class=\"dataframe\">\n",
       "  <thead>\n",
       "    <tr style=\"text-align: right;\">\n",
       "      <th></th>\n",
       "      <th>bcr_patient_uuid</th>\n",
       "      <th>drug_name</th>\n",
       "      <th>karnofsky_performance_score</th>\n",
       "      <th>therapy_type</th>\n",
       "      <th>vital_status</th>\n",
       "    </tr>\n",
       "  </thead>\n",
       "  <tbody>\n",
       "    <tr>\n",
       "      <td>0</td>\n",
       "      <td>5cbf0134-023b-4bd0-97da-eb836ccbc729</td>\n",
       "      <td>lupron</td>\n",
       "      <td>NaN</td>\n",
       "      <td></td>\n",
       "      <td>alive</td>\n",
       "    </tr>\n",
       "    <tr>\n",
       "      <td>0</td>\n",
       "      <td>5cbf0134-023b-4bd0-97da-eb836ccbc729</td>\n",
       "      <td>leuprolide</td>\n",
       "      <td>NaN</td>\n",
       "      <td></td>\n",
       "      <td>alive</td>\n",
       "    </tr>\n",
       "    <tr>\n",
       "      <td>1</td>\n",
       "      <td>cff68090-09df-492b-874c-0caeb29f9361</td>\n",
       "      <td>[not available]</td>\n",
       "      <td>NaN</td>\n",
       "      <td></td>\n",
       "      <td>alive</td>\n",
       "    </tr>\n",
       "    <tr>\n",
       "      <td>2</td>\n",
       "      <td>5570758c-1f07-4ff9-a570-b7ae39d15a89</td>\n",
       "      <td>[not available]</td>\n",
       "      <td>NaN</td>\n",
       "      <td></td>\n",
       "      <td>alive</td>\n",
       "    </tr>\n",
       "    <tr>\n",
       "      <td>3</td>\n",
       "      <td>f9c593d1-f204-4026-8a9b-a6af0922c885</td>\n",
       "      <td>[not available]</td>\n",
       "      <td>100.0</td>\n",
       "      <td></td>\n",
       "      <td>alive</td>\n",
       "    </tr>\n",
       "  </tbody>\n",
       "</table>\n",
       "</div>"
      ],
      "text/plain": [
       "                       bcr_patient_uuid        drug_name  \\\n",
       "0  5cbf0134-023b-4bd0-97da-eb836ccbc729           lupron   \n",
       "0  5cbf0134-023b-4bd0-97da-eb836ccbc729       leuprolide   \n",
       "1  cff68090-09df-492b-874c-0caeb29f9361  [not available]   \n",
       "2  5570758c-1f07-4ff9-a570-b7ae39d15a89  [not available]   \n",
       "3  f9c593d1-f204-4026-8a9b-a6af0922c885  [not available]   \n",
       "\n",
       "   karnofsky_performance_score therapy_type vital_status  \n",
       "0                          NaN                     alive  \n",
       "0                          NaN                     alive  \n",
       "1                          NaN                     alive  \n",
       "2                          NaN                     alive  \n",
       "3                        100.0                     alive  "
      ]
     },
     "execution_count": 370,
     "metadata": {},
     "output_type": "execute_result"
    }
   ],
   "source": [
    "df5.head()"
   ]
  },
  {
   "cell_type": "code",
   "execution_count": 110,
   "metadata": {},
   "outputs": [],
   "source": [
    "list_uuid = get_caseid_txt_file(df5, 'nope.txt')"
   ]
  },
  {
   "cell_type": "code",
   "execution_count": 382,
   "metadata": {},
   "outputs": [
    {
     "data": {
      "text/plain": [
       "                    870\n",
       "[not available]     206\n",
       "gemcitabine          45\n",
       "adriamycin           27\n",
       "sunitinib            26\n",
       "                   ... \n",
       "leuprolide            1\n",
       "cyclophosphamide      1\n",
       "zd6474                1\n",
       "rad001                1\n",
       "threshold-302         1\n",
       "Name: drug_name, Length: 144, dtype: int64"
      ]
     },
     "execution_count": 382,
     "metadata": {},
     "output_type": "execute_result"
    }
   ],
   "source": [
    "df5.drug_name.value_counts()"
   ]
  },
  {
   "cell_type": "code",
   "execution_count": 380,
   "metadata": {},
   "outputs": [],
   "source": [
    "df5 =explode_drug_name_column(df4)"
   ]
  },
  {
   "cell_type": "code",
   "execution_count": 382,
   "metadata": {},
   "outputs": [
    {
     "data": {
      "text/plain": [
       "                    870\n",
       "[not available]     206\n",
       "gemcitabine          45\n",
       "adriamycin           27\n",
       "sunitinib            26\n",
       "                   ... \n",
       "leuprolide            1\n",
       "cyclophosphamide      1\n",
       "zd6474                1\n",
       "rad001                1\n",
       "threshold-302         1\n",
       "Name: drug_name, Length: 144, dtype: int64"
      ]
     },
     "execution_count": 382,
     "metadata": {},
     "output_type": "execute_result"
    }
   ],
   "source": [
    "df5.drug_name.value_counts()"
   ]
  },
  {
   "cell_type": "code",
   "execution_count": 639,
   "metadata": {},
   "outputs": [],
   "source": [
    "misspell_dict, df6 = sort_drug_names(df5, alternative_drug_names)"
   ]
  },
  {
   "cell_type": "code",
   "execution_count": 641,
   "metadata": {},
   "outputs": [
    {
     "data": {
      "text/plain": [
       "                        848\n",
       "[not available]         188\n",
       "gemcitabine              45\n",
       "sunitinib                29\n",
       "adriamycin               27\n",
       "                       ... \n",
       "zd6474                    1\n",
       "pemetrexed injection      1\n",
       "lyrpon                    1\n",
       "cytoxan                   1\n",
       "leuprolide                1\n",
       "Name: drug_name, Length: 150, dtype: int64"
      ]
     },
     "execution_count": 641,
     "metadata": {},
     "output_type": "execute_result"
    }
   ],
   "source": [
    "df6.drug_name.value_counts()"
   ]
  },
  {
   "cell_type": "code",
   "execution_count": 642,
   "metadata": {},
   "outputs": [
    {
     "data": {
      "text/plain": [
       "                       848\n",
       "[not available]        188\n",
       "gemcitabine             58\n",
       "doxorubicin             51\n",
       "sunitinib               51\n",
       "                      ... \n",
       "cyclophosphamide         1\n",
       "zd6474                   1\n",
       "lyrpon                   1\n",
       "cytoxan                  1\n",
       "lymphocyte infusion      1\n",
       "Name: standard_drugs, Length: 108, dtype: int64"
      ]
     },
     "execution_count": 642,
     "metadata": {},
     "output_type": "execute_result"
    }
   ],
   "source": [
    "df6.standard_drugs.value_counts()"
   ]
  },
  {
   "cell_type": "code",
   "execution_count": 643,
   "metadata": {},
   "outputs": [],
   "source": [
    " pickle.dump(df6, open( \"clinical_data_df6.pickle\", \"wb\" ) )"
   ]
  },
  {
   "cell_type": "markdown",
   "metadata": {},
   "source": [
    "# To get data files:\n",
    "visit: https://portal.gdc.cancer.gov/repository?facetTab=cases  \n",
    "click: Upload Case Set  \n",
    "upload: text file from get_caseid_txt_file  \n",
    "after upload click on files:  \n",
    " - choose Experimental Strategy - RNA-Seq\n",
    " - choose Workflow Type - HTSeq - FPKM  \n",
    " \n",
    "click: Add all files to cart, then go to the cart (upper right corner)\n",
    " download the cart, and the metadata file "
   ]
  },
  {
   "cell_type": "code",
   "execution_count": null,
   "metadata": {},
   "outputs": [],
   "source": []
  }
 ],
 "metadata": {
  "kernelspec": {
   "display_name": "Python 3",
   "language": "python",
   "name": "python3"
  },
  "language_info": {
   "codemirror_mode": {
    "name": "ipython",
    "version": 3
   },
   "file_extension": ".py",
   "mimetype": "text/x-python",
   "name": "python",
   "nbconvert_exporter": "python",
   "pygments_lexer": "ipython3",
   "version": "3.7.4"
  }
 },
 "nbformat": 4,
 "nbformat_minor": 2
}
