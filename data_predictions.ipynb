{
 "cells": [
  {
   "cell_type": "code",
   "execution_count": 1,
   "metadata": {},
   "outputs": [],
   "source": [
    "import numpy as np\n",
    "import pandas as pd \n",
    "import seaborn as sns\n",
    "import pickle \n",
    "import regex as re"
   ]
  },
  {
   "cell_type": "code",
   "execution_count": 2,
   "metadata": {},
   "outputs": [
    {
     "ename": "UnpicklingError",
     "evalue": "invalid load key, 'v'.",
     "output_type": "error",
     "traceback": [
      "\u001b[0;31m---------------------------------------------------------------------------\u001b[0m",
      "\u001b[0;31mUnpicklingError\u001b[0m                           Traceback (most recent call last)",
      "\u001b[0;32m<ipython-input-2-acec59fe1d46>\u001b[0m in \u001b[0;36m<module>\u001b[0;34m\u001b[0m\n\u001b[0;32m----> 1\u001b[0;31m \u001b[0mdata_set\u001b[0m \u001b[0;34m=\u001b[0m \u001b[0mpickle\u001b[0m\u001b[0;34m.\u001b[0m\u001b[0mload\u001b[0m\u001b[0;34m(\u001b[0m \u001b[0mopen\u001b[0m\u001b[0;34m(\u001b[0m \u001b[0;34m\"full_data.p\"\u001b[0m\u001b[0;34m,\u001b[0m \u001b[0;34m\"rb\"\u001b[0m \u001b[0;34m)\u001b[0m \u001b[0;34m)\u001b[0m\u001b[0;34m\u001b[0m\u001b[0;34m\u001b[0m\u001b[0m\n\u001b[0m",
      "\u001b[0;31mUnpicklingError\u001b[0m: invalid load key, 'v'."
     ]
    }
   ],
   "source": [
    "data_set = pickle.load( open( \"full_data.p\", \"rb\" ) )"
   ]
  },
  {
   "cell_type": "code",
   "execution_count": null,
   "metadata": {},
   "outputs": [],
   "source": [
    "data_set #this is already sorted well -last column is y "
   ]
  },
  {
   "cell_type": "code",
   "execution_count": null,
   "metadata": {},
   "outputs": [],
   "source": [
    "list_of_drugs = data_set['drug_name'].value_counts() #can probably split into gemcitabine and sunitinib and then other - maybe sorafenib\n"
   ]
  },
  {
   "cell_type": "code",
   "execution_count": null,
   "metadata": {},
   "outputs": [],
   "source": [
    "data_set[data_set['drug_name']=='gemictiabine'] #this is a misspelling\n",
    "data_set.loc[277,'drug_name']='gemcitabine'"
   ]
  },
  {
   "cell_type": "code",
   "execution_count": null,
   "metadata": {},
   "outputs": [],
   "source": [
    "list_of_drugs[40:80] #can i group any of these?  #could try to seperate out the immunostuff\n",
    "#gemzar is another name for gemcitabine - done \n",
    "#need to remove [not available]\n",
    "#drop anything in () or after a space\n",
    "#cisplatinum is a misspelling of cisplatin\n",
    "#standardize andything with interferon\n",
    "#leave tyrosine kinase inhibitor alone\n",
    "#doxil is doxorubicin in a liposome"
   ]
  },
  {
   "cell_type": "code",
   "execution_count": null,
   "metadata": {},
   "outputs": [],
   "source": [
    "data_set['drug_name'] = data_set['drug_name'].str.replace(r\"\\s*\\(.*\\)\\s*\",\"\")"
   ]
  },
  {
   "cell_type": "code",
   "execution_count": null,
   "metadata": {},
   "outputs": [],
   "source": [
    "gemcitabine_alias = ['Abine', 'Accogem', 'Acytabin', 'Antoril', 'axigem', 'Bendacitabin', 'Biogem', 'Boligem', 'Celzar', 'Citegin', 'Cytigem', 'Cytogem', 'Daplax', 'DBL', 'Demozar', 'Dercin', 'Emcitab', 'Enekamub', 'Eriogem', 'Fotinex', 'Gebina', 'Gemalata', 'Gembin', 'Gembine', 'Gembio', 'Gemcel', 'Gemcetin', 'Gemcibine', 'Gemcikal', 'Gemcipen', 'Gemcired', 'Gemcirena', 'Gemcit', 'Gemcitabin', 'Gemcitabina', 'Gemcitabine', 'Gemcitabinum', 'Gemcitan', 'Gemedac', 'Gemflor', 'Gemful', 'Gemita', 'Gemko', 'Gemliquid', 'Gemmis', 'Gemnil', 'Gempower', 'Gemsol', 'Gemstad', 'Gemstada', 'Gemtabine', 'Gemtavis', 'Gemtaz', 'Gemtero', 'Gemtra', 'Gemtro', 'Gemvic', 'Gemxit', 'Gemzar', 'Gentabim', 'Genuten', 'Genvir', 'Geroam', 'Gestredos', 'Getanosan', 'Getmisi', 'Gezt', 'Gitrabin', 'Gramagen', 'Haxanit', 'Jemta', 'Kalbezar', 'Medigem', 'Meditabine', 'Nabigem', 'Nallian', 'Oncogem', 'Oncoril', 'Pamigeno', 'Ribozar', 'Santabin', 'Sitagem', 'Symtabin', 'Yu Jie', 'Ze Fei', 'Zefei']\n",
    "gemcitabine_alias= [name.lower() for name in gemcitabine_alias]\n",
    "#gemcitabine_alias"
   ]
  },
  {
   "cell_type": "code",
   "execution_count": null,
   "metadata": {},
   "outputs": [],
   "source": [
    "data_set['drug_name']=['gemcitabine' if name in gemcitabine_alias else name for name in data_set.drug_name]"
   ]
  },
  {
   "cell_type": "code",
   "execution_count": null,
   "metadata": {},
   "outputs": [],
   "source": [
    "remove_index = data_set[(data_set.drug_name == '[not available]')|(data_set.drug_name == '[unknown]')].index #index values 89 347 444\n",
    "remove_index\n",
    "data_set.drop(remove_index, inplace=True)"
   ]
  },
  {
   "cell_type": "code",
   "execution_count": null,
   "metadata": {},
   "outputs": [],
   "source": [
    "data_set['drug_name']=['sorafenib' if 'nexavar' in name else name for name in data_set.drug_name]\n",
    "data_set['drug_name']=['sorafenib' if 'bay-439006' in name else name for name in data_set.drug_name]\n",
    "data_set['drug_name']=['sorafenib' if 'nexavaar' in name else name for name in data_set.drug_name]\n",
    "data_set['drug_name']=['doxorubicin' if 'adriamycin' in name else name for name in data_set.drug_name]\n",
    "data_set['drug_name']=['doxorubicin' if 'dox' in name else name for name in data_set.drug_name]\n",
    "data_set['drug_name']=['doxorubicin' if 'rubex' in name else name for name in data_set.drug_name]\n",
    "data_set['drug_name']=['sorafenib' if name=='naxavar' else name for name in data_set.drug_name]\n",
    "data_set['drug_name']=['pazonib' if name=='votrient' else name for name in data_set.drug_name]\n",
    "data_set['drug_name']=['sunitinib' if name=='sutent' else name for name in data_set.drug_name]\n",
    "data_set['drug_name']=['docetaxel' if name=='taxotere' else name for name in data_set.drug_name]\n",
    "data_set['drug_name']=['temsirolimus' if name=='torisel' else name for name in data_set.drug_name]\n",
    "data_set['drug_name']=['avastin' if name=='bevacizumab' else name for name in data_set.drug_name]\n",
    "data_set['drug_name']=['interferon alpha'if 'interferon' in name else name for name in data_set.drug_name]\n",
    "data_set['drug_name']=['capecitabine' if 'xeloda' in name else name for name in data_set.drug_name]\n",
    "data_set['drug_name']=['il-2' if 'il-2' in name else name for name in data_set.drug_name]\n",
    "data_set['drug_name']=['interferon alpha' if '-a' in name else name for name in data_set.drug_name]\n",
    "data_set['drug_name']=['cisplatin' if 'cisplat' in name else name for name in data_set.drug_name]\n",
    "#this can be cahnged to a dictionary later - its like this cause I was researching one drug at a time\n"
   ]
  },
  {
   "cell_type": "code",
   "execution_count": null,
   "metadata": {},
   "outputs": [],
   "source": [
    "#data_set(regex = '\\w*\\W*2', axis = 0)\n",
    "data_set.drug_name = data_set.drug_name.str.replace(pat =\"i\\w*\\W*2\\w*\", repl = 'il-2', regex=True)"
   ]
  },
  {
   "cell_type": "code",
   "execution_count": null,
   "metadata": {},
   "outputs": [],
   "source": [
    "data_set[data_set.drug_name=='bevacizumab']"
   ]
  },
  {
   "cell_type": "code",
   "execution_count": null,
   "metadata": {},
   "outputs": [],
   "source": [
    "data_set.drug_name.value_counts()[0:20] #set dead to 0, alive to 1 "
   ]
  },
  {
   "cell_type": "code",
   "execution_count": null,
   "metadata": {},
   "outputs": [],
   "source": [
    "data_set['vital_status']=[0 if status=='dead' else 1 for status in data_set.vital_status]"
   ]
  },
  {
   "cell_type": "code",
   "execution_count": null,
   "metadata": {},
   "outputs": [],
   "source": [
    "data_set.vital_status.value_counts()"
   ]
  },
  {
   "cell_type": "code",
   "execution_count": null,
   "metadata": {},
   "outputs": [],
   "source": [
    "data_set.groupby(['drug_name']).vital_status.value_counts()"
   ]
  },
  {
   "cell_type": "code",
   "execution_count": null,
   "metadata": {},
   "outputs": [],
   "source": []
  }
 ],
 "metadata": {
  "kernelspec": {
   "display_name": "Python 3",
   "language": "python",
   "name": "python3"
  },
  "language_info": {
   "codemirror_mode": {
    "name": "ipython",
    "version": 3
   },
   "file_extension": ".py",
   "mimetype": "text/x-python",
   "name": "python",
   "nbconvert_exporter": "python",
   "pygments_lexer": "ipython3",
   "version": "3.7.4"
  }
 },
 "nbformat": 4,
 "nbformat_minor": 2
}
