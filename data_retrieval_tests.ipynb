{
 "cells": [
  {
   "cell_type": "code",
   "execution_count": 1,
   "metadata": {},
   "outputs": [],
   "source": [
    "import requests\n",
    "import json\n",
    "import numpy as np \n",
    "import pandas as pd"
   ]
  },
  {
   "cell_type": "code",
   "execution_count": 2,
   "metadata": {},
   "outputs": [],
   "source": [
    "cases_endpt = 'https://api.gdc.cancer.gov/cases'"
   ]
  },
  {
   "cell_type": "code",
   "execution_count": 3,
   "metadata": {},
   "outputs": [],
   "source": [
    "files_endpt = \"https://api.gdc.cancer.gov/files\""
   ]
  },
  {
   "cell_type": "code",
   "execution_count": 4,
   "metadata": {},
   "outputs": [
    {
     "name": "stdout",
     "output_type": "stream",
     "text": [
      "cases.0.disease_type\tcases.0.project.project_id\tcases.0.samples.0.sample_type\tcases.0.submitter_id\tfile_name\tid\r\n",
      "Squamous Cell Neoplasms\tTCGA-LUSC\tPrimary Tumor\tTCGA-85-6561\t8a52e74d-e830-4c13-81e1-caaf032b4549_gdc_realn_rehead.bam\t73e7a49e-87fd-4809-a076-1394a1a619a2\r\n",
      "Squamous Cell Neoplasms\tTCGA-LUSC\tPrimary Tumor\tTCGA-77-8144\tfc131a10-fa8f-45da-8732-642cc45c91e6_gdc_realn_rehead.bam\ta27ca6ec-7c8b-45cf-9daf-0bff9fdb66f0\r\n",
      "Squamous Cell Neoplasms\tTCGA-LUSC\tPrimary Tumor\tTCGA-18-3411\tddcab400-d9a0-40da-907f-adc5805c6bbb_gdc_realn_rehead.bam\te0979f1e-e816-4322-b1e1-cde921032091\r\n",
      "Squamous Cell Neoplasms\tTCGA-LUSC\tSolid Tissue Normal\tTCGA-56-7582\t8ef3c107-48d0-4203-820f-5b70394fe261_gdc_realn_rehead.bam\tddeeaa88-e030-4d0b-9a46-531323461bb9\r\n",
      "Squamous Cell Neoplasms\tTCGA-LUSC\tPrimary Tumor\tTCGA-43-7658\t9560e4b7-5f34-4139-8280-faf4e5b97a22_gdc_realn_rehead.bam\t03bb0e2c-7a1c-4195-92a2-7385b19f87f9\r\n",
      "\n"
     ]
    }
   ],
   "source": [
    "import requests\n",
    "import json\n",
    "\n",
    "fields = [\n",
    "    \"file_name\",\n",
    "    \"cases.submitter_id\",\n",
    "    \"cases.samples.sample_type\",\n",
    "    \"cases.disease_type\",\n",
    "    \"cases.project.project_id\"\n",
    "    ]\n",
    "\n",
    "fields = \",\".join(fields)\n",
    "\n",
    "files_endpt = \"https://api.gdc.cancer.gov/files\"\n",
    "\n",
    "# This set of filters is nested under an 'and' operator.\n",
    "filters = {\n",
    "    \"op\": \"and\",\n",
    "    \"content\":[\n",
    "        {\n",
    "        \"op\": \"in\",\n",
    "        \"content\":{\n",
    "            \"field\": \"cases.project.primary_site\",\n",
    "            \"value\": [\"Lung\"]\n",
    "            }\n",
    "        },\n",
    "        {\n",
    "        \"op\": \"in\",\n",
    "        \"content\":{\n",
    "            \"field\": \"files.experimental_strategy\",\n",
    "            \"value\": [\"RNA-Seq\"]\n",
    "            }\n",
    "        },\n",
    "        {\n",
    "        \"op\": \"in\",\n",
    "        \"content\":{\n",
    "            \"field\": \"files.data_format\",\n",
    "            \"value\": [\"BAM\"]\n",
    "            }\n",
    "        }\n",
    "    ]\n",
    "}\n",
    "\n",
    "# A POST is used, so the filter parameters can be passed directly as a Dict object.\n",
    "params = {\n",
    "    \"filters\": filters,\n",
    "    \"fields\": fields,\n",
    "    \"format\": \"TSV\",\n",
    "    \"size\": \"5\"\n",
    "    }\n",
    "\n",
    "# The parameters are passed to 'json' rather than 'params' in this case\n",
    "response = requests.post(files_endpt, headers = {\"Content-Type\": \"application/json\"}, json = params)\n",
    "\n",
    "print(response.content.decode(\"utf-8\"))"
   ]
  },
  {
   "cell_type": "code",
   "execution_count": 10,
   "metadata": {},
   "outputs": [],
   "source": [
    "#writing my own actual request - \n",
    "# goal - get RNA-seq for primary tumor, caseid, primary site, drug used, progression free days or equivalent\n",
    "\n",
    "#first table just need to be caseid, primary site for files that have rna seq and drug used \n",
    "\n",
    "fields_table1 = [\n",
    "    \"case_id\",\n",
    "    \"primary_site\"\n",
    "    ]\n",
    "fields_table1 = \",\".join(fields_table1)"
   ]
  },
  {
   "cell_type": "code",
   "execution_count": 11,
   "metadata": {},
   "outputs": [],
   "source": [
    "filters_table1 = {\n",
    "    \"op\":\"and\",\n",
    "    \"content\":[{\"op\":\"in\", \n",
    "                \"content\":{\n",
    "        \"field\":\"primary_site\",\n",
    "        \"value\": [\"Kidney\"]}}, \n",
    "                {\"op\":\"in\",\n",
    "                 \"content\":{\n",
    "                     \"field\":\"files.experimental_strategy\", \n",
    "                     \"value\":[\"RNA-Seq\"]}}]}"
   ]
  },
  {
   "cell_type": "code",
   "execution_count": 12,
   "metadata": {},
   "outputs": [],
   "source": [
    "params_table1 = {\n",
    "    \"filters\": json.dumps(filters_table1),\n",
    "    \"fields\": fields_table1,\n",
    "    \"format\": \"TSV\",\n",
    "    \"size\": \"1\"\n",
    "    }"
   ]
  },
  {
   "cell_type": "code",
   "execution_count": 13,
   "metadata": {},
   "outputs": [],
   "source": [
    "response_table1 = requests.get(cases_endpt, params = params_table1)\n",
    "response_table1_1 = requests.post(cases_endpt, headers = {\"Content-Type\": \"application/json\"}, json = params)\n"
   ]
  },
  {
   "cell_type": "code",
   "execution_count": 14,
   "metadata": {},
   "outputs": [
    {
     "name": "stdout",
     "output_type": "stream",
     "text": [
      "b'case_id\\tid\\tprimary_site\\r\\n5338d435-68fb-4f0d-a3e6-c843f703f75f\\t5338d435-68fb-4f0d-a3e6-c843f703f75f\\tKidney\\r\\n'\n"
     ]
    }
   ],
   "source": [
    "print(response_table1.content) # this is wayyyy too much now"
   ]
  },
  {
   "cell_type": "code",
   "execution_count": null,
   "metadata": {},
   "outputs": [],
   "source": []
  }
 ],
 "metadata": {
  "kernelspec": {
   "display_name": "Python 3",
   "language": "python",
   "name": "python3"
  },
  "language_info": {
   "codemirror_mode": {
    "name": "ipython",
    "version": 3
   },
   "file_extension": ".py",
   "mimetype": "text/x-python",
   "name": "python",
   "nbconvert_exporter": "python",
   "pygments_lexer": "ipython3",
   "version": "3.7.4"
  }
 },
 "nbformat": 4,
 "nbformat_minor": 2
}
